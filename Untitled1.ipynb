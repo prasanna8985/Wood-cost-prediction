{
  "nbformat": 4,
  "nbformat_minor": 0,
  "metadata": {
    "colab": {
      "provenance": [],
      "authorship_tag": "ABX9TyPSIxQndhqqCWogwCZI4iIB",
      "include_colab_link": true
    },
    "kernelspec": {
      "name": "python3",
      "display_name": "Python 3"
    },
    "language_info": {
      "name": "python"
    }
  },
  "cells": [
    {
      "cell_type": "markdown",
      "metadata": {
        "id": "view-in-github",
        "colab_type": "text"
      },
      "source": [
        "<a href=\"https://colab.research.google.com/github/prasanna8985/Wood-cost-prediction/blob/main/Untitled1.ipynb\" target=\"_parent\"><img src=\"https://colab.research.google.com/assets/colab-badge.svg\" alt=\"Open In Colab\"/></a>"
      ]
    },
    {
      "cell_type": "code",
      "execution_count": null,
      "metadata": {
        "colab": {
          "base_uri": "https://localhost:8080/"
        },
        "id": "zJiQjEgHz2oB",
        "outputId": "1baa9f47-22d9-444e-a6a0-b18d145d88a3"
      },
      "outputs": [
        {
          "output_type": "stream",
          "name": "stdout",
          "text": [
            "Mean Squared Error: 475.7019887265322\n",
            "R-squared: 0.616962719876132\n",
            "Predicted Cost: 173.52096496068813\n"
          ]
        }
      ],
      "source": [
        "import pandas as pd\n",
        "import numpy as np\n",
        "from sklearn.model_selection import train_test_split, GridSearchCV\n",
        "from sklearn.preprocessing import StandardScaler, OneHotEncoder\n",
        "from sklearn.compose import ColumnTransformer\n",
        "from sklearn.pipeline import Pipeline\n",
        "from sklearn.ensemble import RandomForestRegressor\n",
        "from sklearn.metrics import mean_squared_error, r2_score\n",
        "\n",
        "# Generate the dataset\n",
        "wood_types = [\n",
        "    \"Teak\", \"Oak\", \"Pine\", \"Bamboo\", \"Maple\", \"Walnut\", \"Mahogany\",\n",
        "    \"Cedar\", \"Birch\", \"Cherry\", \"Ash\", \"Poplar\", \"Beech\", \"Spruce\",\n",
        "    \"Ebony\", \"Redwood\", \"Alder\", \"Fir\", \"Elm\", \"Acacia\"\n",
        "]\n",
        "use_cases = [\n",
        "    \"Furniture\", \"Shelves\", \"Tool handles\", \"Cutting boards\",\n",
        "    \"Decorative items\", \"Panels\", \"Doors\", \"Cabinetry\", \"Crafts\"\n",
        "]\n",
        "durability_levels = [\"Medium\", \"High\", \"Very High\"]\n",
        "\n",
        "np.random.seed(42)\n",
        "data = []\n",
        "for _ in range(200):  # Generate 200 rows for better training\n",
        "    wood_type = np.random.choice(wood_types)\n",
        "    length = np.random.randint(80, 251)\n",
        "    width = np.random.randint(10, 61)\n",
        "    thickness = round(np.random.uniform(1.0, 4.5), 1)\n",
        "    use_case = np.random.choice(use_cases)\n",
        "    durability = np.random.choice(durability_levels)\n",
        "    # Hypothetical cost based on wood type, dimensions, and durability\n",
        "    base_cost = np.random.uniform(20, 100)  # Base cost factor\n",
        "    cost = base_cost + 0.5 * length + 0.3 * width + 2 * thickness\n",
        "    if durability == \"High\":\n",
        "        cost *= 1.1\n",
        "    elif durability == \"Very High\":\n",
        "        cost *= 1.2\n",
        "    data.append([wood_type, length, width, thickness, use_case, durability, round(cost, 2)])\n",
        "\n",
        "# Create DataFrame\n",
        "columns = [\"Wood Type\", \"Length (cm)\", \"Width (cm)\", \"Thickness (cm)\", \"Use Case\", \"Durability\", \"Cost\"]\n",
        "df = pd.DataFrame(data, columns=columns)\n",
        "\n",
        "# Add a feature for volume\n",
        "df[\"Volume\"] = df[\"Length (cm)\"] * df[\"Width (cm)\"] * df[\"Thickness (cm)\"]\n",
        "\n",
        "# Split dataset into features and target\n",
        "X = df.drop(\"Cost\", axis=1)\n",
        "y = df[\"Cost\"]\n",
        "\n",
        "# Define preprocessing for numerical and categorical features\n",
        "numerical_features = [\"Length (cm)\", \"Width (cm)\", \"Thickness (cm)\", \"Volume\"]\n",
        "categorical_features = [\"Wood Type\", \"Use Case\", \"Durability\"]\n",
        "\n",
        "numerical_transformer = StandardScaler()\n",
        "categorical_transformer = OneHotEncoder(handle_unknown=\"ignore\")\n",
        "\n",
        "preprocessor = ColumnTransformer(\n",
        "    transformers=[\n",
        "        (\"num\", numerical_transformer, numerical_features),\n",
        "        (\"cat\", categorical_transformer, categorical_features),\n",
        "    ]\n",
        ")\n",
        "\n",
        "# Define the model pipeline\n",
        "model = Pipeline(steps=[\n",
        "    (\"preprocessor\", preprocessor),\n",
        "    (\"regressor\", RandomForestRegressor(random_state=42))\n",
        "])\n",
        "\n",
        "# Split data into training and testing sets\n",
        "X_train, X_test, y_train, y_test = train_test_split(X, y, test_size=0.2, random_state=42)\n",
        "\n",
        "# Hyperparameter tuning with GridSearchCV\n",
        "param_grid = {\n",
        "    \"regressor__n_estimators\": [100, 200, 300],\n",
        "    \"regressor__max_depth\": [None, 10, 20, 30],\n",
        "    \"regressor__min_samples_split\": [2, 5, 10],\n",
        "    \"regressor__min_samples_leaf\": [1, 2, 4]\n",
        "}\n",
        "\n",
        "grid_search = GridSearchCV(model, param_grid, cv=3, scoring=\"r2\", n_jobs=-1)\n",
        "grid_search.fit(X_train, y_train)\n",
        "\n",
        "# Best model\n",
        "best_model = grid_search.best_estimator_\n",
        "\n",
        "# Make predictions\n",
        "y_pred = best_model.predict(X_test)\n",
        "\n",
        "# Evaluate the model\n",
        "mse = mean_squared_error(y_test, y_pred)\n",
        "r2 = r2_score(y_test, y_pred)\n",
        "print(f\"Mean Squared Error: {mse}\")\n",
        "print(f\"R-squared: {r2}\")\n",
        "\n",
        "# Example function to predict cost based on user input\n",
        "def predict_cost(user_input):\n",
        "    \"\"\"Predict wood cost based on user input.\n",
        "\n",
        "    Args:\n",
        "        user_input (dict): Dictionary with keys [\"Wood Type\", \"Length (cm)\", \"Width (cm)\", \"Thickness (cm)\", \"Use Case\", \"Durability\"].\n",
        "\n",
        "    Returns:\n",
        "        float: Predicted cost.\n",
        "    \"\"\"\n",
        "    input_df = pd.DataFrame([user_input])\n",
        "    input_df[\"Volume\"] = input_df[\"Length (cm)\"] * input_df[\"Width (cm)\"] * input_df[\"Thickness (cm)\"]\n",
        "    return best_model.predict(input_df)[0]\n",
        "\n",
        "# Example usage\n",
        "example_input = {\n",
        "    \"Wood Type\": \"Teak\",\n",
        "    \"Length (cm)\": 150,\n",
        "    \"Width (cm)\": 30,\n",
        "    \"Thickness (cm)\": 2.5,\n",
        "    \"Use Case\": \"Furniture\",\n",
        "    \"Durability\": \"High\"\n",
        "}\n",
        "\n",
        "predicted_cost = predict_cost(example_input)\n",
        "print(f\"Predicted Cost: {predicted_cost}\")\n"
      ]
    },
    {
      "cell_type": "code",
      "source": [
        "example_input = {\n",
        "    \"Wood Type\": \"Teak\",\n",
        "    \"Length (cm)\": 200,\n",
        "    \"Width (cm)\": 30,\n",
        "    \"Thickness (cm)\": 2,\n",
        "    \"Use Case\": \"Furniture\",\n",
        "    \"Durability\": \"High\"\n",
        "}\n",
        "\n",
        "predicted_cost = predict_cost(example_input)\n",
        "print(f\"Predicted Cost: {predicted_cost}\")\n"
      ],
      "metadata": {
        "id": "y-ZW6ChPAUcz",
        "outputId": "0993ef34-0e84-488b-9a98-4d5d79bcc509",
        "colab": {
          "base_uri": "https://localhost:8080/"
        }
      },
      "execution_count": null,
      "outputs": [
        {
          "output_type": "stream",
          "name": "stdout",
          "text": [
            "Predicted Cost: 171.3775824005944\n"
          ]
        }
      ]
    }
  ]
}